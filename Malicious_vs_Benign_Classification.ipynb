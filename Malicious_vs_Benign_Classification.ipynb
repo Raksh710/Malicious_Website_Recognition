{
 "cells": [
  {
   "cell_type": "markdown",
   "id": "0187a13a-1845-48e9-8604-026c4e7e10a8",
   "metadata": {},
   "source": [
    "## AIM:\n",
    "The objective is to classify Malicious (Type=1) websites from Benign (Type=0) ones on the basis of various features given in the dataset.<br>\n",
    "Target variable: `\"TYPE\"`"
   ]
  },
  {
   "cell_type": "markdown",
   "id": "88f7c785-a9ca-4725-9c33-ad1df04bd6e4",
   "metadata": {},
   "source": [
    "## Features:\n",
    "`URL`: it is the anonimous identification of the URL analyzed in the study <br>\n",
    "`URL_LENGTH`: it is the number of characters in the URL <br>\n",
    "`NUMBERSPECIALCHARACTERS`: it is number of special characters identified in the URL, such as, “/”, “%”, “#”, “&”, “. “, “=” <br>\n",
    "`CHARSET`: it is a categorical value and its meaning is the character encoding standard (also called character set). <br>\n",
    "`SERVER`: it is a categorical value and its meaning is the operative system of the server got from the packet response. <br>\n",
    "`CONTENT_LENGTH`: it represents the content size of the HTTP header. <br>\n",
    "`WHOIS_COUNTRY`: it is a categorical variable, its values are the countries we got from the server response (specifically, our script used the API of Whois). <br>\n",
    "`WHOIS_STATEPRO`: it is a categorical variable, its values are the states we got from the server response (specifically, our script used the API of Whois). <br>\n",
    "`WHOIS_REGDATE`: Whois provides the server registration date, so, this variable has date values with format DD/MM/YYY HH:MM <br>\n",
    "`WHOISUPDATEDDATE`: Through the Whois we got the last update date from the server analyzed <br>\n",
    "`TCPCONVERSATIONEXCHANGE`: This variable is the number of TCP packets exchanged between the server and our honeypot client <br>\n",
    "`DISTREMOTETCP_PORT`: it is the number of the ports detected and different to TCP <br>\n",
    "`REMOTE_IPS`: this variable has the total number of IPs connected to the honeypot <br>\n",
    "`APP_BYTES`: this is the number of bytes transfered <br>\n",
    "`SOURCEAPPPACKETS`: packets sent from the honeypot to the server <br>\n",
    "`REMOTEAPPPACKETS`: packets received from the server <br>\n",
    "`APP_PACKETS`: this is the total number of IP packets generated during the communication between the honeypot and the server <br>\n",
    "`DNSQUERYTIMES`: this is the number of DNS packets generated during the communication between the honeypot and the server <br>\n",
    "`TYPE`: this is a categorical variable, its values represent the type of web page analyzed, specifically, 1 is for malicious websites and 0 is for benign websites <br>"
   ]
  },
  {
   "cell_type": "markdown",
   "id": "58674170-4148-481f-a7cf-a2589bf9b685",
   "metadata": {},
   "source": [
    "## Approach:\n",
    "1) Explore the data <br>\n",
    "2) Clean the relevant data <br>\n",
    "3) Check imbalances (if any) <br>\n",
    "4) Use resampling technqiues to resolve imbalances <br>\n",
    "5) Feature Engineering and Feature Selection <br>\n",
    "6) Try and finalize a Machine Learning Model <br>\n",
    "7) Validate our results on Cross-Validation set <br>\n",
    "8) Final Inferences and Conclusion <br>"
   ]
  },
  {
   "cell_type": "markdown",
   "id": "60c3b0e4-64b1-4dac-bbea-95281c753c11",
   "metadata": {},
   "source": [
    "#### Importing the required packages and dataset"
   ]
  },
  {
   "cell_type": "code",
   "execution_count": 1,
   "id": "6f506bd8-3d47-4192-bc91-6894596fcfd7",
   "metadata": {},
   "outputs": [],
   "source": [
    "import numpy as np\n",
    "import pandas as pd\n",
    "import matplotlib.pyplot as plt\n",
    "import seaborn as sns"
   ]
  },
  {
   "cell_type": "code",
   "execution_count": 2,
   "id": "2ba46394-6bcf-4f32-a43c-12ed5ff0dd91",
   "metadata": {},
   "outputs": [],
   "source": [
    "df = pd.read_csv(\"train.csv\") # importing the dataset"
   ]
  },
  {
   "cell_type": "code",
   "execution_count": 3,
   "id": "0c4b5bf3-c16b-415d-a98e-a8e08f695bf9",
   "metadata": {},
   "outputs": [
    {
     "data": {
      "text/html": [
       "<div>\n",
       "<style scoped>\n",
       "    .dataframe tbody tr th:only-of-type {\n",
       "        vertical-align: middle;\n",
       "    }\n",
       "\n",
       "    .dataframe tbody tr th {\n",
       "        vertical-align: top;\n",
       "    }\n",
       "\n",
       "    .dataframe thead th {\n",
       "        text-align: right;\n",
       "    }\n",
       "</style>\n",
       "<table border=\"1\" class=\"dataframe\">\n",
       "  <thead>\n",
       "    <tr style=\"text-align: right;\">\n",
       "      <th></th>\n",
       "      <th>URL</th>\n",
       "      <th>URL_LENGTH</th>\n",
       "      <th>NUMBER_SPECIAL_CHARACTERS</th>\n",
       "      <th>CHARSET</th>\n",
       "      <th>SERVER</th>\n",
       "      <th>CONTENT_LENGTH</th>\n",
       "      <th>WHOIS_COUNTRY</th>\n",
       "      <th>WHOIS_STATEPRO</th>\n",
       "      <th>WHOIS_REGDATE</th>\n",
       "      <th>WHOIS_UPDATED_DATE</th>\n",
       "      <th>...</th>\n",
       "      <th>DIST_REMOTE_TCP_PORT</th>\n",
       "      <th>REMOTE_IPS</th>\n",
       "      <th>APP_BYTES</th>\n",
       "      <th>SOURCE_APP_PACKETS</th>\n",
       "      <th>REMOTE_APP_PACKETS</th>\n",
       "      <th>SOURCE_APP_BYTES</th>\n",
       "      <th>REMOTE_APP_BYTES</th>\n",
       "      <th>APP_PACKETS</th>\n",
       "      <th>DNS_QUERY_TIMES</th>\n",
       "      <th>Type</th>\n",
       "    </tr>\n",
       "  </thead>\n",
       "  <tbody>\n",
       "    <tr>\n",
       "      <th>0</th>\n",
       "      <td>M0_109</td>\n",
       "      <td>16</td>\n",
       "      <td>7</td>\n",
       "      <td>iso-8859-1</td>\n",
       "      <td>nginx</td>\n",
       "      <td>263.0</td>\n",
       "      <td>None</td>\n",
       "      <td>None</td>\n",
       "      <td>10/10/2015 18:21</td>\n",
       "      <td>None</td>\n",
       "      <td>...</td>\n",
       "      <td>0</td>\n",
       "      <td>2</td>\n",
       "      <td>700</td>\n",
       "      <td>9</td>\n",
       "      <td>10</td>\n",
       "      <td>1153</td>\n",
       "      <td>832</td>\n",
       "      <td>9</td>\n",
       "      <td>2.0</td>\n",
       "      <td>1</td>\n",
       "    </tr>\n",
       "    <tr>\n",
       "      <th>1</th>\n",
       "      <td>B0_2314</td>\n",
       "      <td>16</td>\n",
       "      <td>6</td>\n",
       "      <td>UTF-8</td>\n",
       "      <td>Apache/2.4.10</td>\n",
       "      <td>15087.0</td>\n",
       "      <td>None</td>\n",
       "      <td>None</td>\n",
       "      <td>None</td>\n",
       "      <td>None</td>\n",
       "      <td>...</td>\n",
       "      <td>7</td>\n",
       "      <td>4</td>\n",
       "      <td>1230</td>\n",
       "      <td>17</td>\n",
       "      <td>19</td>\n",
       "      <td>1265</td>\n",
       "      <td>1230</td>\n",
       "      <td>17</td>\n",
       "      <td>0.0</td>\n",
       "      <td>0</td>\n",
       "    </tr>\n",
       "    <tr>\n",
       "      <th>2</th>\n",
       "      <td>B0_911</td>\n",
       "      <td>16</td>\n",
       "      <td>6</td>\n",
       "      <td>us-ascii</td>\n",
       "      <td>Microsoft-HTTPAPI/2.0</td>\n",
       "      <td>324.0</td>\n",
       "      <td>None</td>\n",
       "      <td>None</td>\n",
       "      <td>None</td>\n",
       "      <td>None</td>\n",
       "      <td>...</td>\n",
       "      <td>0</td>\n",
       "      <td>0</td>\n",
       "      <td>0</td>\n",
       "      <td>0</td>\n",
       "      <td>0</td>\n",
       "      <td>0</td>\n",
       "      <td>0</td>\n",
       "      <td>0</td>\n",
       "      <td>0.0</td>\n",
       "      <td>0</td>\n",
       "    </tr>\n",
       "    <tr>\n",
       "      <th>3</th>\n",
       "      <td>B0_113</td>\n",
       "      <td>17</td>\n",
       "      <td>6</td>\n",
       "      <td>ISO-8859-1</td>\n",
       "      <td>nginx</td>\n",
       "      <td>162.0</td>\n",
       "      <td>US</td>\n",
       "      <td>AK</td>\n",
       "      <td>7/10/1997 4:00</td>\n",
       "      <td>12/09/2013 0:45</td>\n",
       "      <td>...</td>\n",
       "      <td>22</td>\n",
       "      <td>3</td>\n",
       "      <td>3812</td>\n",
       "      <td>39</td>\n",
       "      <td>37</td>\n",
       "      <td>18784</td>\n",
       "      <td>4380</td>\n",
       "      <td>39</td>\n",
       "      <td>8.0</td>\n",
       "      <td>0</td>\n",
       "    </tr>\n",
       "    <tr>\n",
       "      <th>4</th>\n",
       "      <td>B0_403</td>\n",
       "      <td>17</td>\n",
       "      <td>6</td>\n",
       "      <td>UTF-8</td>\n",
       "      <td>None</td>\n",
       "      <td>124140.0</td>\n",
       "      <td>US</td>\n",
       "      <td>TX</td>\n",
       "      <td>12/05/1996 0:00</td>\n",
       "      <td>11/04/2017 0:00</td>\n",
       "      <td>...</td>\n",
       "      <td>2</td>\n",
       "      <td>5</td>\n",
       "      <td>4278</td>\n",
       "      <td>61</td>\n",
       "      <td>62</td>\n",
       "      <td>129889</td>\n",
       "      <td>4586</td>\n",
       "      <td>61</td>\n",
       "      <td>4.0</td>\n",
       "      <td>0</td>\n",
       "    </tr>\n",
       "  </tbody>\n",
       "</table>\n",
       "<p>5 rows × 21 columns</p>\n",
       "</div>"
      ],
      "text/plain": [
       "       URL  URL_LENGTH  NUMBER_SPECIAL_CHARACTERS     CHARSET  \\\n",
       "0   M0_109          16                          7  iso-8859-1   \n",
       "1  B0_2314          16                          6       UTF-8   \n",
       "2   B0_911          16                          6    us-ascii   \n",
       "3   B0_113          17                          6  ISO-8859-1   \n",
       "4   B0_403          17                          6       UTF-8   \n",
       "\n",
       "                  SERVER  CONTENT_LENGTH WHOIS_COUNTRY WHOIS_STATEPRO  \\\n",
       "0                  nginx           263.0          None           None   \n",
       "1          Apache/2.4.10         15087.0          None           None   \n",
       "2  Microsoft-HTTPAPI/2.0           324.0          None           None   \n",
       "3                  nginx           162.0            US             AK   \n",
       "4                   None        124140.0            US             TX   \n",
       "\n",
       "      WHOIS_REGDATE WHOIS_UPDATED_DATE  ...  DIST_REMOTE_TCP_PORT  REMOTE_IPS  \\\n",
       "0  10/10/2015 18:21               None  ...                     0           2   \n",
       "1              None               None  ...                     7           4   \n",
       "2              None               None  ...                     0           0   \n",
       "3    7/10/1997 4:00    12/09/2013 0:45  ...                    22           3   \n",
       "4   12/05/1996 0:00    11/04/2017 0:00  ...                     2           5   \n",
       "\n",
       "   APP_BYTES  SOURCE_APP_PACKETS  REMOTE_APP_PACKETS  SOURCE_APP_BYTES  \\\n",
       "0        700                   9                  10              1153   \n",
       "1       1230                  17                  19              1265   \n",
       "2          0                   0                   0                 0   \n",
       "3       3812                  39                  37             18784   \n",
       "4       4278                  61                  62            129889   \n",
       "\n",
       "   REMOTE_APP_BYTES  APP_PACKETS  DNS_QUERY_TIMES  Type  \n",
       "0               832            9              2.0     1  \n",
       "1              1230           17              0.0     0  \n",
       "2                 0            0              0.0     0  \n",
       "3              4380           39              8.0     0  \n",
       "4              4586           61              4.0     0  \n",
       "\n",
       "[5 rows x 21 columns]"
      ]
     },
     "execution_count": 3,
     "metadata": {},
     "output_type": "execute_result"
    }
   ],
   "source": [
    "df.head() # checking the head"
   ]
  },
  {
   "cell_type": "code",
   "execution_count": 4,
   "id": "24d4b399-9907-4071-a530-c7e270142010",
   "metadata": {},
   "outputs": [
    {
     "name": "stdout",
     "output_type": "stream",
     "text": [
      "<class 'pandas.core.frame.DataFrame'>\n",
      "RangeIndex: 1781 entries, 0 to 1780\n",
      "Data columns (total 21 columns):\n",
      " #   Column                     Non-Null Count  Dtype  \n",
      "---  ------                     --------------  -----  \n",
      " 0   URL                        1781 non-null   object \n",
      " 1   URL_LENGTH                 1781 non-null   int64  \n",
      " 2   NUMBER_SPECIAL_CHARACTERS  1781 non-null   int64  \n",
      " 3   CHARSET                    1781 non-null   object \n",
      " 4   SERVER                     1780 non-null   object \n",
      " 5   CONTENT_LENGTH             969 non-null    float64\n",
      " 6   WHOIS_COUNTRY              1781 non-null   object \n",
      " 7   WHOIS_STATEPRO             1781 non-null   object \n",
      " 8   WHOIS_REGDATE              1781 non-null   object \n",
      " 9   WHOIS_UPDATED_DATE         1781 non-null   object \n",
      " 10  TCP_CONVERSATION_EXCHANGE  1781 non-null   int64  \n",
      " 11  DIST_REMOTE_TCP_PORT       1781 non-null   int64  \n",
      " 12  REMOTE_IPS                 1781 non-null   int64  \n",
      " 13  APP_BYTES                  1781 non-null   int64  \n",
      " 14  SOURCE_APP_PACKETS         1781 non-null   int64  \n",
      " 15  REMOTE_APP_PACKETS         1781 non-null   int64  \n",
      " 16  SOURCE_APP_BYTES           1781 non-null   int64  \n",
      " 17  REMOTE_APP_BYTES           1781 non-null   int64  \n",
      " 18  APP_PACKETS                1781 non-null   int64  \n",
      " 19  DNS_QUERY_TIMES            1780 non-null   float64\n",
      " 20  Type                       1781 non-null   int64  \n",
      "dtypes: float64(2), int64(12), object(7)\n",
      "memory usage: 292.3+ KB\n"
     ]
    }
   ],
   "source": [
    "df.info() # checking the info"
   ]
  },
  {
   "cell_type": "code",
   "execution_count": 5,
   "id": "dbc42b84-d2e9-4d6d-8963-ae8c3804e5ee",
   "metadata": {},
   "outputs": [
    {
     "data": {
      "text/plain": [
       "URL                            0\n",
       "URL_LENGTH                     0\n",
       "NUMBER_SPECIAL_CHARACTERS      0\n",
       "CHARSET                        0\n",
       "SERVER                         1\n",
       "CONTENT_LENGTH               812\n",
       "WHOIS_COUNTRY                  0\n",
       "WHOIS_STATEPRO                 0\n",
       "WHOIS_REGDATE                  0\n",
       "WHOIS_UPDATED_DATE             0\n",
       "TCP_CONVERSATION_EXCHANGE      0\n",
       "DIST_REMOTE_TCP_PORT           0\n",
       "REMOTE_IPS                     0\n",
       "APP_BYTES                      0\n",
       "SOURCE_APP_PACKETS             0\n",
       "REMOTE_APP_PACKETS             0\n",
       "SOURCE_APP_BYTES               0\n",
       "REMOTE_APP_BYTES               0\n",
       "APP_PACKETS                    0\n",
       "DNS_QUERY_TIMES                1\n",
       "Type                           0\n",
       "dtype: int64"
      ]
     },
     "execution_count": 5,
     "metadata": {},
     "output_type": "execute_result"
    }
   ],
   "source": [
    "df.isna().sum() # Checking the missing values per column"
   ]
  },
  {
   "cell_type": "markdown",
   "id": "1f7d7151-cf6d-4d1c-9095-397ab32e5418",
   "metadata": {},
   "source": [
    "#### Checking the imbalance in target variable"
   ]
  },
  {
   "cell_type": "code",
   "execution_count": 6,
   "id": "d2657979-27f9-49e3-bb1d-1897bfd25c83",
   "metadata": {},
   "outputs": [
    {
     "data": {
      "text/plain": [
       "0    87.871982\n",
       "1    12.128018\n",
       "Name: Type, dtype: float64"
      ]
     },
     "execution_count": 6,
     "metadata": {},
     "output_type": "execute_result"
    }
   ],
   "source": [
    "100 * df['Type'].value_counts()/len(df)"
   ]
  },
  {
   "cell_type": "markdown",
   "id": "e29fd935-a4ba-4833-8b77-c7dbbf909ccb",
   "metadata": {},
   "source": [
    "There is a high imbalance towards Type=0 class. The ratio is around 88%-12%. We'll fix this later using SMOTE."
   ]
  },
  {
   "cell_type": "markdown",
   "id": "8b1d63f6-cb73-4164-937d-150b612b5bae",
   "metadata": {},
   "source": [
    "## Exploratory Data Analysis (EDA)"
   ]
  },
  {
   "cell_type": "code",
   "execution_count": 7,
   "id": "3ce4bf88-686e-4144-84ee-88d98aabcb5e",
   "metadata": {},
   "outputs": [
    {
     "data": {
      "text/html": [
       "<div>\n",
       "<style scoped>\n",
       "    .dataframe tbody tr th:only-of-type {\n",
       "        vertical-align: middle;\n",
       "    }\n",
       "\n",
       "    .dataframe tbody tr th {\n",
       "        vertical-align: top;\n",
       "    }\n",
       "\n",
       "    .dataframe thead th {\n",
       "        text-align: right;\n",
       "    }\n",
       "</style>\n",
       "<table border=\"1\" class=\"dataframe\">\n",
       "  <thead>\n",
       "    <tr style=\"text-align: right;\">\n",
       "      <th></th>\n",
       "      <th>URL_LENGTH</th>\n",
       "      <th>NUMBER_SPECIAL_CHARACTERS</th>\n",
       "      <th>CONTENT_LENGTH</th>\n",
       "      <th>TCP_CONVERSATION_EXCHANGE</th>\n",
       "      <th>DIST_REMOTE_TCP_PORT</th>\n",
       "      <th>REMOTE_IPS</th>\n",
       "      <th>APP_BYTES</th>\n",
       "      <th>SOURCE_APP_PACKETS</th>\n",
       "      <th>REMOTE_APP_PACKETS</th>\n",
       "      <th>SOURCE_APP_BYTES</th>\n",
       "      <th>REMOTE_APP_BYTES</th>\n",
       "      <th>APP_PACKETS</th>\n",
       "      <th>DNS_QUERY_TIMES</th>\n",
       "      <th>Type</th>\n",
       "    </tr>\n",
       "  </thead>\n",
       "  <tbody>\n",
       "    <tr>\n",
       "      <th>count</th>\n",
       "      <td>1781.000000</td>\n",
       "      <td>1781.000000</td>\n",
       "      <td>969.000000</td>\n",
       "      <td>1781.000000</td>\n",
       "      <td>1781.000000</td>\n",
       "      <td>1781.000000</td>\n",
       "      <td>1.781000e+03</td>\n",
       "      <td>1781.000000</td>\n",
       "      <td>1781.000000</td>\n",
       "      <td>1.781000e+03</td>\n",
       "      <td>1.781000e+03</td>\n",
       "      <td>1781.000000</td>\n",
       "      <td>1780.000000</td>\n",
       "      <td>1781.000000</td>\n",
       "    </tr>\n",
       "    <tr>\n",
       "      <th>mean</th>\n",
       "      <td>56.961258</td>\n",
       "      <td>11.111735</td>\n",
       "      <td>11726.927761</td>\n",
       "      <td>16.261089</td>\n",
       "      <td>5.472768</td>\n",
       "      <td>3.060640</td>\n",
       "      <td>2.982339e+03</td>\n",
       "      <td>18.540146</td>\n",
       "      <td>18.746210</td>\n",
       "      <td>1.589255e+04</td>\n",
       "      <td>3.155599e+03</td>\n",
       "      <td>18.540146</td>\n",
       "      <td>2.263483</td>\n",
       "      <td>0.121280</td>\n",
       "    </tr>\n",
       "    <tr>\n",
       "      <th>std</th>\n",
       "      <td>27.555586</td>\n",
       "      <td>4.549896</td>\n",
       "      <td>36391.809051</td>\n",
       "      <td>40.500975</td>\n",
       "      <td>21.807327</td>\n",
       "      <td>3.386975</td>\n",
       "      <td>5.605057e+04</td>\n",
       "      <td>41.627173</td>\n",
       "      <td>46.397969</td>\n",
       "      <td>6.986193e+04</td>\n",
       "      <td>5.605378e+04</td>\n",
       "      <td>41.627173</td>\n",
       "      <td>2.930853</td>\n",
       "      <td>0.326544</td>\n",
       "    </tr>\n",
       "    <tr>\n",
       "      <th>min</th>\n",
       "      <td>16.000000</td>\n",
       "      <td>5.000000</td>\n",
       "      <td>0.000000</td>\n",
       "      <td>0.000000</td>\n",
       "      <td>0.000000</td>\n",
       "      <td>0.000000</td>\n",
       "      <td>0.000000e+00</td>\n",
       "      <td>0.000000</td>\n",
       "      <td>0.000000</td>\n",
       "      <td>0.000000e+00</td>\n",
       "      <td>0.000000e+00</td>\n",
       "      <td>0.000000</td>\n",
       "      <td>0.000000</td>\n",
       "      <td>0.000000</td>\n",
       "    </tr>\n",
       "    <tr>\n",
       "      <th>25%</th>\n",
       "      <td>39.000000</td>\n",
       "      <td>8.000000</td>\n",
       "      <td>324.000000</td>\n",
       "      <td>0.000000</td>\n",
       "      <td>0.000000</td>\n",
       "      <td>0.000000</td>\n",
       "      <td>0.000000e+00</td>\n",
       "      <td>0.000000</td>\n",
       "      <td>0.000000</td>\n",
       "      <td>0.000000e+00</td>\n",
       "      <td>0.000000e+00</td>\n",
       "      <td>0.000000</td>\n",
       "      <td>0.000000</td>\n",
       "      <td>0.000000</td>\n",
       "    </tr>\n",
       "    <tr>\n",
       "      <th>50%</th>\n",
       "      <td>49.000000</td>\n",
       "      <td>10.000000</td>\n",
       "      <td>1853.000000</td>\n",
       "      <td>7.000000</td>\n",
       "      <td>0.000000</td>\n",
       "      <td>2.000000</td>\n",
       "      <td>6.720000e+02</td>\n",
       "      <td>8.000000</td>\n",
       "      <td>9.000000</td>\n",
       "      <td>5.790000e+02</td>\n",
       "      <td>7.350000e+02</td>\n",
       "      <td>8.000000</td>\n",
       "      <td>0.000000</td>\n",
       "      <td>0.000000</td>\n",
       "    </tr>\n",
       "    <tr>\n",
       "      <th>75%</th>\n",
       "      <td>68.000000</td>\n",
       "      <td>13.000000</td>\n",
       "      <td>11323.000000</td>\n",
       "      <td>22.000000</td>\n",
       "      <td>5.000000</td>\n",
       "      <td>5.000000</td>\n",
       "      <td>2.328000e+03</td>\n",
       "      <td>26.000000</td>\n",
       "      <td>25.000000</td>\n",
       "      <td>9.806000e+03</td>\n",
       "      <td>2.701000e+03</td>\n",
       "      <td>26.000000</td>\n",
       "      <td>4.000000</td>\n",
       "      <td>0.000000</td>\n",
       "    </tr>\n",
       "    <tr>\n",
       "      <th>max</th>\n",
       "      <td>249.000000</td>\n",
       "      <td>43.000000</td>\n",
       "      <td>649263.000000</td>\n",
       "      <td>1194.000000</td>\n",
       "      <td>708.000000</td>\n",
       "      <td>17.000000</td>\n",
       "      <td>2.362906e+06</td>\n",
       "      <td>1198.000000</td>\n",
       "      <td>1284.000000</td>\n",
       "      <td>2.060012e+06</td>\n",
       "      <td>2.362906e+06</td>\n",
       "      <td>1198.000000</td>\n",
       "      <td>20.000000</td>\n",
       "      <td>1.000000</td>\n",
       "    </tr>\n",
       "  </tbody>\n",
       "</table>\n",
       "</div>"
      ],
      "text/plain": [
       "        URL_LENGTH  NUMBER_SPECIAL_CHARACTERS  CONTENT_LENGTH  \\\n",
       "count  1781.000000                1781.000000      969.000000   \n",
       "mean     56.961258                  11.111735    11726.927761   \n",
       "std      27.555586                   4.549896    36391.809051   \n",
       "min      16.000000                   5.000000        0.000000   \n",
       "25%      39.000000                   8.000000      324.000000   \n",
       "50%      49.000000                  10.000000     1853.000000   \n",
       "75%      68.000000                  13.000000    11323.000000   \n",
       "max     249.000000                  43.000000   649263.000000   \n",
       "\n",
       "       TCP_CONVERSATION_EXCHANGE  DIST_REMOTE_TCP_PORT   REMOTE_IPS  \\\n",
       "count                1781.000000           1781.000000  1781.000000   \n",
       "mean                   16.261089              5.472768     3.060640   \n",
       "std                    40.500975             21.807327     3.386975   \n",
       "min                     0.000000              0.000000     0.000000   \n",
       "25%                     0.000000              0.000000     0.000000   \n",
       "50%                     7.000000              0.000000     2.000000   \n",
       "75%                    22.000000              5.000000     5.000000   \n",
       "max                  1194.000000            708.000000    17.000000   \n",
       "\n",
       "          APP_BYTES  SOURCE_APP_PACKETS  REMOTE_APP_PACKETS  SOURCE_APP_BYTES  \\\n",
       "count  1.781000e+03         1781.000000         1781.000000      1.781000e+03   \n",
       "mean   2.982339e+03           18.540146           18.746210      1.589255e+04   \n",
       "std    5.605057e+04           41.627173           46.397969      6.986193e+04   \n",
       "min    0.000000e+00            0.000000            0.000000      0.000000e+00   \n",
       "25%    0.000000e+00            0.000000            0.000000      0.000000e+00   \n",
       "50%    6.720000e+02            8.000000            9.000000      5.790000e+02   \n",
       "75%    2.328000e+03           26.000000           25.000000      9.806000e+03   \n",
       "max    2.362906e+06         1198.000000         1284.000000      2.060012e+06   \n",
       "\n",
       "       REMOTE_APP_BYTES  APP_PACKETS  DNS_QUERY_TIMES         Type  \n",
       "count      1.781000e+03  1781.000000      1780.000000  1781.000000  \n",
       "mean       3.155599e+03    18.540146         2.263483     0.121280  \n",
       "std        5.605378e+04    41.627173         2.930853     0.326544  \n",
       "min        0.000000e+00     0.000000         0.000000     0.000000  \n",
       "25%        0.000000e+00     0.000000         0.000000     0.000000  \n",
       "50%        7.350000e+02     8.000000         0.000000     0.000000  \n",
       "75%        2.701000e+03    26.000000         4.000000     0.000000  \n",
       "max        2.362906e+06  1198.000000        20.000000     1.000000  "
      ]
     },
     "execution_count": 7,
     "metadata": {},
     "output_type": "execute_result"
    }
   ],
   "source": [
    "df.describe() # checking the descriptive stats for each numerical feature"
   ]
  },
  {
   "cell_type": "markdown",
   "id": "360644eb-ceb6-42e4-baaf-35ab61a85d05",
   "metadata": {},
   "source": [
    "### Now let's try finding any trend of other features with respect to Target variables"
   ]
  },
  {
   "cell_type": "markdown",
   "id": "1c7a2a9f-215b-4ed7-8c24-d54374345f67",
   "metadata": {},
   "source": [
    "### 1) Type vs Number of special characters"
   ]
  },
  {
   "cell_type": "code",
   "execution_count": 8,
   "id": "ced89459-b30a-4f92-a6c0-5c309d59d627",
   "metadata": {},
   "outputs": [
    {
     "data": {
      "image/png": "[encoded data removed]",
      "text/plain": [
       "<Figure size 864x432 with 1 Axes>"
      ]
     },
     "metadata": {
      "needs_background": "light"
     },
     "output_type": "display_data"
    }
   ],
   "source": [
    "plt.figure(figsize=(12,6))\n",
    "sns.boxplot(data=df,x='Type',y='NUMBER_SPECIAL_CHARACTERS');"
   ]
  },
  {
   "cell_type": "markdown",
   "id": "1bcc3099-0a06-4240-a11b-a9ec5a6a6be2",
   "metadata": {},
   "source": [
    "### Inference: \n",
    "The number of special characters for Malicious website is higher than benign ones."
   ]
  },
  {
   "cell_type": "markdown",
   "id": "c76fa126-c64d-48ae-ace0-67ff37b71a79",
   "metadata": {},
   "source": [
    "### 2) Type vs URL length"
   ]
  },
  {
   "cell_type": "code",
   "execution_count": 9,
   "id": "c2c40dc1-d03d-4bf4-ad4a-9aa430a19842",
   "metadata": {},
   "outputs": [
    {
     "data": {
      "image/png": "[encoded data removed]",
      "text/plain": [
       "<Figure size 864x432 with 1 Axes>"
      ]
     },
     "metadata": {
      "needs_background": "light"
     },
     "output_type": "display_data"
    }
   ],
   "source": [
    "plt.figure(figsize=(12,6))\n",
    "sns.boxplot(data=df,x='Type',y='URL_LENGTH');"
   ]
  },
  {
   "cell_type": "markdown",
   "id": "6b1492a2-950c-4319-9336-4bce99b52529",
   "metadata": {},
   "source": [
    "#### Inference:\n",
    "The mean length of URL is higher for Malicious website as compared to benign ones."
   ]
  },
  {
   "cell_type": "code",
   "execution_count": null,
   "id": "2707103a-974f-46d4-89b4-0d246144d1c3",
   "metadata": {},
   "outputs": [],
   "source": []
  },
  {
   "cell_type": "markdown",
   "id": "6a2eb628-ea46-4cc6-9b6b-93dc9cf81059",
   "metadata": {},
   "source": [
    "## Let's do a bit of Data processing and then continue with EDA"
   ]
  },
  {
   "cell_type": "markdown",
   "id": "107bf222-d531-41cc-b68a-dc3c59919f96",
   "metadata": {},
   "source": [
    "#### Let's see how many unique categories are there in each categorical column"
   ]
  },
  {
   "cell_type": "code",
   "execution_count": 10,
   "id": "4b17eebe-50bc-45b3-ae35-fb46e6894db2",
   "metadata": {},
   "outputs": [
    {
     "name": "stdout",
     "output_type": "stream",
     "text": [
      "URL -> 1781\n",
      "CHARSET -> 9\n",
      "SERVER -> 239\n",
      "WHOIS_COUNTRY -> 49\n",
      "WHOIS_STATEPRO -> 182\n",
      "WHOIS_REGDATE -> 891\n",
      "WHOIS_UPDATED_DATE -> 594\n"
     ]
    }
   ],
   "source": [
    "for i in df.select_dtypes(include='object').columns:\n",
    "    print(f\"{i} -> {df[i].nunique()}\")"
   ]
  },
  {
   "cell_type": "markdown",
   "id": "c8eba718-c448-4f6c-adfb-3341a3d515f5",
   "metadata": {},
   "source": [
    "#### Let's create some custom functions to only keep top 5 category in each categorical column and then applying these function to their respective columns"
   ]
  },
  {
   "cell_type": "code",
   "execution_count": 11,
   "id": "49545a14-088d-42f8-aa34-d527aa93f59a",
   "metadata": {},
   "outputs": [
    {
     "data": {
      "text/plain": [
       "UTF-8           676\n",
       "ISO-8859-1      427\n",
       "utf-8           379\n",
       "us-ascii        155\n",
       "iso-8859-1      134\n",
       "None              7\n",
       "windows-1252      1\n",
       "windows-1251      1\n",
       "ISO-8859          1\n",
       "Name: CHARSET, dtype: int64"
      ]
     },
     "execution_count": 11,
     "metadata": {},
     "output_type": "execute_result"
    }
   ],
   "source": [
    "df['CHARSET'].value_counts()"
   ]
  },
  {
   "cell_type": "code",
   "execution_count": 12,
   "id": "d6ecedbb-98e2-45fe-b28c-3c1a14cdcc91",
   "metadata": {},
   "outputs": [],
   "source": [
    "def CHARSET_CLEANER(x):\n",
    "    if x not in ['UTF-8','ISO-8859-1','utf-8','us-ascii','iso-8859-1']:\n",
    "        return \"OTHERS\"\n",
    "    else:\n",
    "        return x"
   ]
  },
  {
   "cell_type": "code",
   "execution_count": 13,
   "id": "5aa4fea2-c64b-4b07-aa2c-cee44720022e",
   "metadata": {},
   "outputs": [],
   "source": [
    "df['CHARSET'] = df['CHARSET'].apply(CHARSET_CLEANER)"
   ]
  },
  {
   "cell_type": "code",
   "execution_count": 14,
   "id": "61e9a123-ddb9-42bd-833d-c4a4fc167f86",
   "metadata": {},
   "outputs": [
    {
     "data": {
      "text/plain": [
       "UTF-8         676\n",
       "ISO-8859-1    427\n",
       "utf-8         379\n",
       "us-ascii      155\n",
       "iso-8859-1    134\n",
       "OTHERS         10\n",
       "Name: CHARSET, dtype: int64"
      ]
     },
     "execution_count": 14,
     "metadata": {},
     "output_type": "execute_result"
    }
   ],
   "source": [
    "df['CHARSET'].value_counts()"
   ]
  },
  {
   "cell_type": "code",
   "execution_count": 15,
   "id": "00f01c1c-f391-4739-ae2e-f02d44d58622",
   "metadata": {},
   "outputs": [
    {
     "data": {
      "text/plain": [
       "Apache                                                                        386\n",
       "nginx                                                                         211\n",
       "None                                                                          175\n",
       "Microsoft-HTTPAPI/2.0                                                         113\n",
       "cloudflare-nginx                                                               94\n",
       "                                                                             ... \n",
       "Apache/2.4.10 (Ubuntu)                                                          1\n",
       "Apache/1.3.34 (Unix) PHP/4.4.4                                                  1\n",
       "Apache/2.4.6 (Unix) mod_jk/1.2.37 PHP/5.5.1 OpenSSL/1.0.1g mod_fcgid/2.3.9      1\n",
       "mw2180.codfw.wmnet                                                              1\n",
       "DPS/1.1.8                                                                       1\n",
       "Name: SERVER, Length: 239, dtype: int64"
      ]
     },
     "execution_count": 15,
     "metadata": {},
     "output_type": "execute_result"
    }
   ],
   "source": [
    "df['SERVER'].value_counts()"
   ]
  },
  {
   "cell_type": "code",
   "execution_count": 16,
   "id": "93c21518-29d3-4c59-858f-7b4cce608fb2",
   "metadata": {},
   "outputs": [],
   "source": [
    "def SERVER_CLEANER(x):\n",
    "    if x not in ['Apache','nginx','None','Microsoft-HTTPAPI/2.0','cloudflare-nginx']:\n",
    "        return \"OTHERS\"\n",
    "    else:\n",
    "        return x"
   ]
  },
  {
   "cell_type": "code",
   "execution_count": 17,
   "id": "841900a8-adf1-4317-9d50-b94721f3a067",
   "metadata": {},
   "outputs": [],
   "source": [
    "df['SERVER'] = df['SERVER'].apply(SERVER_CLEANER)"
   ]
  },
  {
   "cell_type": "code",
   "execution_count": 18,
   "id": "d75270e2-3c97-479d-8dab-509fe79908c1",
   "metadata": {},
   "outputs": [
    {
     "data": {
      "text/plain": [
       "OTHERS                   802\n",
       "Apache                   386\n",
       "nginx                    211\n",
       "None                     175\n",
       "Microsoft-HTTPAPI/2.0    113\n",
       "cloudflare-nginx          94\n",
       "Name: SERVER, dtype: int64"
      ]
     },
     "execution_count": 18,
     "metadata": {},
     "output_type": "execute_result"
    }
   ],
   "source": [
    "df['SERVER'].value_counts()"
   ]
  },
  {
   "cell_type": "code",
   "execution_count": 19,
   "id": "e2d76f53-afb8-4d38-b26e-92fea0ed5810",
   "metadata": {},
   "outputs": [
    {
     "data": {
      "text/plain": [
       "CA           372\n",
       "None         362\n",
       "NY            75\n",
       "WA            65\n",
       "Barcelona     62\n",
       "FL            61\n",
       "Arizona       58\n",
       "Name: WHOIS_STATEPRO, dtype: int64"
      ]
     },
     "execution_count": 19,
     "metadata": {},
     "output_type": "execute_result"
    }
   ],
   "source": [
    "df['WHOIS_STATEPRO'].value_counts()[:7]"
   ]
  },
  {
   "cell_type": "code",
   "execution_count": 20,
   "id": "1f3e6cc0-1ef8-478f-a831-a10160513164",
   "metadata": {},
   "outputs": [],
   "source": [
    "def STATE_CLEANER(x):\n",
    "    if x not in ['CA','None','NY','WA','Barcelona','FL']:\n",
    "        return \"OTHERS\"\n",
    "    else:\n",
    "        return x"
   ]
  },
  {
   "cell_type": "code",
   "execution_count": 21,
   "id": "d2c5454e-e1b2-4819-99c5-447f4be30850",
   "metadata": {},
   "outputs": [],
   "source": [
    "df['WHOIS_STATEPRO'] = df['WHOIS_STATEPRO'].apply(STATE_CLEANER)"
   ]
  },
  {
   "cell_type": "code",
   "execution_count": 22,
   "id": "e39657a5-f483-46d8-aeec-52f5baf3fd8d",
   "metadata": {},
   "outputs": [
    {
     "data": {
      "text/plain": [
       "OTHERS       784\n",
       "CA           372\n",
       "None         362\n",
       "NY            75\n",
       "WA            65\n",
       "Barcelona     62\n",
       "FL            61\n",
       "Name: WHOIS_STATEPRO, dtype: int64"
      ]
     },
     "execution_count": 22,
     "metadata": {},
     "output_type": "execute_result"
    }
   ],
   "source": [
    "df['WHOIS_STATEPRO'].value_counts()"
   ]
  },
  {
   "cell_type": "code",
   "execution_count": 23,
   "id": "8daff464-cd30-40d5-a167-73572ddb993e",
   "metadata": {},
   "outputs": [],
   "source": [
    "def DATE_CLEANER(x):\n",
    "    if x == 'None':\n",
    "        return \"Absent\"\n",
    "    else:\n",
    "        return \"Present\""
   ]
  },
  {
   "cell_type": "code",
   "execution_count": 24,
   "id": "2b830281-800e-45c1-b525-8523201dedde",
   "metadata": {},
   "outputs": [],
   "source": [
    "df['WHOIS_REGDATE'] = df['WHOIS_REGDATE'].apply(DATE_CLEANER)"
   ]
  },
  {
   "cell_type": "code",
   "execution_count": 25,
   "id": "55de1c91-3e02-4248-9045-e8ec8e42fab1",
   "metadata": {},
   "outputs": [],
   "source": [
    "df['WHOIS_UPDATED_DATE'] = df['WHOIS_UPDATED_DATE'].apply(DATE_CLEANER)"
   ]
  },
  {
   "cell_type": "code",
   "execution_count": 26,
   "id": "ef24fcfb-a649-40c1-941c-d3fac94bf89f",
   "metadata": {},
   "outputs": [
    {
     "data": {
      "text/html": [
       "<div>\n",
       "<style scoped>\n",
       "    .dataframe tbody tr th:only-of-type {\n",
       "        vertical-align: middle;\n",
       "    }\n",
       "\n",
       "    .dataframe tbody tr th {\n",
       "        vertical-align: top;\n",
       "    }\n",
       "\n",
       "    .dataframe thead th {\n",
       "        text-align: right;\n",
       "    }\n",
       "</style>\n",
       "<table border=\"1\" class=\"dataframe\">\n",
       "  <thead>\n",
       "    <tr style=\"text-align: right;\">\n",
       "      <th></th>\n",
       "      <th>URL</th>\n",
       "      <th>URL_LENGTH</th>\n",
       "      <th>NUMBER_SPECIAL_CHARACTERS</th>\n",
       "      <th>CHARSET</th>\n",
       "      <th>SERVER</th>\n",
       "      <th>CONTENT_LENGTH</th>\n",
       "      <th>WHOIS_COUNTRY</th>\n",
       "      <th>WHOIS_STATEPRO</th>\n",
       "      <th>WHOIS_REGDATE</th>\n",
       "      <th>WHOIS_UPDATED_DATE</th>\n",
       "      <th>...</th>\n",
       "      <th>DIST_REMOTE_TCP_PORT</th>\n",
       "      <th>REMOTE_IPS</th>\n",
       "      <th>APP_BYTES</th>\n",
       "      <th>SOURCE_APP_PACKETS</th>\n",
       "      <th>REMOTE_APP_PACKETS</th>\n",
       "      <th>SOURCE_APP_BYTES</th>\n",
       "      <th>REMOTE_APP_BYTES</th>\n",
       "      <th>APP_PACKETS</th>\n",
       "      <th>DNS_QUERY_TIMES</th>\n",
       "      <th>Type</th>\n",
       "    </tr>\n",
       "  </thead>\n",
       "  <tbody>\n",
       "    <tr>\n",
       "      <th>0</th>\n",
       "      <td>M0_109</td>\n",
       "      <td>16</td>\n",
       "      <td>7</td>\n",
       "      <td>iso-8859-1</td>\n",
       "      <td>nginx</td>\n",
       "      <td>263.0</td>\n",
       "      <td>None</td>\n",
       "      <td>None</td>\n",
       "      <td>Present</td>\n",
       "      <td>Absent</td>\n",
       "      <td>...</td>\n",
       "      <td>0</td>\n",
       "      <td>2</td>\n",
       "      <td>700</td>\n",
       "      <td>9</td>\n",
       "      <td>10</td>\n",
       "      <td>1153</td>\n",
       "      <td>832</td>\n",
       "      <td>9</td>\n",
       "      <td>2.0</td>\n",
       "      <td>1</td>\n",
       "    </tr>\n",
       "    <tr>\n",
       "      <th>1</th>\n",
       "      <td>B0_2314</td>\n",
       "      <td>16</td>\n",
       "      <td>6</td>\n",
       "      <td>UTF-8</td>\n",
       "      <td>OTHERS</td>\n",
       "      <td>15087.0</td>\n",
       "      <td>None</td>\n",
       "      <td>None</td>\n",
       "      <td>Absent</td>\n",
       "      <td>Absent</td>\n",
       "      <td>...</td>\n",
       "      <td>7</td>\n",
       "      <td>4</td>\n",
       "      <td>1230</td>\n",
       "      <td>17</td>\n",
       "      <td>19</td>\n",
       "      <td>1265</td>\n",
       "      <td>1230</td>\n",
       "      <td>17</td>\n",
       "      <td>0.0</td>\n",
       "      <td>0</td>\n",
       "    </tr>\n",
       "    <tr>\n",
       "      <th>2</th>\n",
       "      <td>B0_911</td>\n",
       "      <td>16</td>\n",
       "      <td>6</td>\n",
       "      <td>us-ascii</td>\n",
       "      <td>Microsoft-HTTPAPI/2.0</td>\n",
       "      <td>324.0</td>\n",
       "      <td>None</td>\n",
       "      <td>None</td>\n",
       "      <td>Absent</td>\n",
       "      <td>Absent</td>\n",
       "      <td>...</td>\n",
       "      <td>0</td>\n",
       "      <td>0</td>\n",
       "      <td>0</td>\n",
       "      <td>0</td>\n",
       "      <td>0</td>\n",
       "      <td>0</td>\n",
       "      <td>0</td>\n",
       "      <td>0</td>\n",
       "      <td>0.0</td>\n",
       "      <td>0</td>\n",
       "    </tr>\n",
       "    <tr>\n",
       "      <th>3</th>\n",
       "      <td>B0_113</td>\n",
       "      <td>17</td>\n",
       "      <td>6</td>\n",
       "      <td>ISO-8859-1</td>\n",
       "      <td>nginx</td>\n",
       "      <td>162.0</td>\n",
       "      <td>US</td>\n",
       "      <td>OTHERS</td>\n",
       "      <td>Present</td>\n",
       "      <td>Present</td>\n",
       "      <td>...</td>\n",
       "      <td>22</td>\n",
       "      <td>3</td>\n",
       "      <td>3812</td>\n",
       "      <td>39</td>\n",
       "      <td>37</td>\n",
       "      <td>18784</td>\n",
       "      <td>4380</td>\n",
       "      <td>39</td>\n",
       "      <td>8.0</td>\n",
       "      <td>0</td>\n",
       "    </tr>\n",
       "    <tr>\n",
       "      <th>4</th>\n",
       "      <td>B0_403</td>\n",
       "      <td>17</td>\n",
       "      <td>6</td>\n",
       "      <td>UTF-8</td>\n",
       "      <td>None</td>\n",
       "      <td>124140.0</td>\n",
       "      <td>US</td>\n",
       "      <td>OTHERS</td>\n",
       "      <td>Present</td>\n",
       "      <td>Present</td>\n",
       "      <td>...</td>\n",
       "      <td>2</td>\n",
       "      <td>5</td>\n",
       "      <td>4278</td>\n",
       "      <td>61</td>\n",
       "      <td>62</td>\n",
       "      <td>129889</td>\n",
       "      <td>4586</td>\n",
       "      <td>61</td>\n",
       "      <td>4.0</td>\n",
       "      <td>0</td>\n",
       "    </tr>\n",
       "  </tbody>\n",
       "</table>\n",
       "<p>5 rows × 21 columns</p>\n",
       "</div>"
      ],
      "text/plain": [
       "       URL  URL_LENGTH  NUMBER_SPECIAL_CHARACTERS     CHARSET  \\\n",
       "0   M0_109          16                          7  iso-8859-1   \n",
       "1  B0_2314          16                          6       UTF-8   \n",
       "2   B0_911          16                          6    us-ascii   \n",
       "3   B0_113          17                          6  ISO-8859-1   \n",
       "4   B0_403          17                          6       UTF-8   \n",
       "\n",
       "                  SERVER  CONTENT_LENGTH WHOIS_COUNTRY WHOIS_STATEPRO  \\\n",
       "0                  nginx           263.0          None           None   \n",
       "1                 OTHERS         15087.0          None           None   \n",
       "2  Microsoft-HTTPAPI/2.0           324.0          None           None   \n",
       "3                  nginx           162.0            US         OTHERS   \n",
       "4                   None        124140.0            US         OTHERS   \n",
       "\n",
       "  WHOIS_REGDATE WHOIS_UPDATED_DATE  ...  DIST_REMOTE_TCP_PORT  REMOTE_IPS  \\\n",
       "0       Present             Absent  ...                     0           2   \n",
       "1        Absent             Absent  ...                     7           4   \n",
       "2        Absent             Absent  ...                     0           0   \n",
       "3       Present            Present  ...                    22           3   \n",
       "4       Present            Present  ...                     2           5   \n",
       "\n",
       "   APP_BYTES  SOURCE_APP_PACKETS  REMOTE_APP_PACKETS  SOURCE_APP_BYTES  \\\n",
       "0        700                   9                  10              1153   \n",
       "1       1230                  17                  19              1265   \n",
       "2          0                   0                   0                 0   \n",
       "3       3812                  39                  37             18784   \n",
       "4       4278                  61                  62            129889   \n",
       "\n",
       "   REMOTE_APP_BYTES  APP_PACKETS  DNS_QUERY_TIMES  Type  \n",
       "0               832            9              2.0     1  \n",
       "1              1230           17              0.0     0  \n",
       "2                 0            0              0.0     0  \n",
       "3              4380           39              8.0     0  \n",
       "4              4586           61              4.0     0  \n",
       "\n",
       "[5 rows x 21 columns]"
      ]
     },
     "execution_count": 26,
     "metadata": {},
     "output_type": "execute_result"
    }
   ],
   "source": [
    "df.head()"
   ]
  },
  {
   "cell_type": "code",
   "execution_count": 27,
   "id": "c3998e25-9dbf-4358-86ad-de42f1a54829",
   "metadata": {},
   "outputs": [],
   "source": [
    "df.drop(['URL','WHOIS_COUNTRY'],axis=1,inplace=True)"
   ]
  },
  {
   "cell_type": "code",
   "execution_count": 28,
   "id": "411198cc-2c9c-4710-93d5-4987a76370c0",
   "metadata": {},
   "outputs": [
    {
     "data": {
      "text/html": [
       "<div>\n",
       "<style scoped>\n",
       "    .dataframe tbody tr th:only-of-type {\n",
       "        vertical-align: middle;\n",
       "    }\n",
       "\n",
       "    .dataframe tbody tr th {\n",
       "        vertical-align: top;\n",
       "    }\n",
       "\n",
       "    .dataframe thead th {\n",
       "        text-align: right;\n",
       "    }\n",
       "</style>\n",
       "<table border=\"1\" class=\"dataframe\">\n",
       "  <thead>\n",
       "    <tr style=\"text-align: right;\">\n",
       "      <th></th>\n",
       "      <th>URL_LENGTH</th>\n",
       "      <th>NUMBER_SPECIAL_CHARACTERS</th>\n",
       "      <th>CHARSET</th>\n",
       "      <th>SERVER</th>\n",
       "      <th>CONTENT_LENGTH</th>\n",
       "      <th>WHOIS_STATEPRO</th>\n",
       "      <th>WHOIS_REGDATE</th>\n",
       "      <th>WHOIS_UPDATED_DATE</th>\n",
       "      <th>TCP_CONVERSATION_EXCHANGE</th>\n",
       "      <th>DIST_REMOTE_TCP_PORT</th>\n",
       "      <th>REMOTE_IPS</th>\n",
       "      <th>APP_BYTES</th>\n",
       "      <th>SOURCE_APP_PACKETS</th>\n",
       "      <th>REMOTE_APP_PACKETS</th>\n",
       "      <th>SOURCE_APP_BYTES</th>\n",
       "      <th>REMOTE_APP_BYTES</th>\n",
       "      <th>APP_PACKETS</th>\n",
       "      <th>DNS_QUERY_TIMES</th>\n",
       "      <th>Type</th>\n",
       "    </tr>\n",
       "  </thead>\n",
       "  <tbody>\n",
       "    <tr>\n",
       "      <th>0</th>\n",
       "      <td>16</td>\n",
       "      <td>7</td>\n",
       "      <td>iso-8859-1</td>\n",
       "      <td>nginx</td>\n",
       "      <td>263.0</td>\n",
       "      <td>None</td>\n",
       "      <td>Present</td>\n",
       "      <td>Absent</td>\n",
       "      <td>7</td>\n",
       "      <td>0</td>\n",
       "      <td>2</td>\n",
       "      <td>700</td>\n",
       "      <td>9</td>\n",
       "      <td>10</td>\n",
       "      <td>1153</td>\n",
       "      <td>832</td>\n",
       "      <td>9</td>\n",
       "      <td>2.0</td>\n",
       "      <td>1</td>\n",
       "    </tr>\n",
       "    <tr>\n",
       "      <th>1</th>\n",
       "      <td>16</td>\n",
       "      <td>6</td>\n",
       "      <td>UTF-8</td>\n",
       "      <td>OTHERS</td>\n",
       "      <td>15087.0</td>\n",
       "      <td>None</td>\n",
       "      <td>Absent</td>\n",
       "      <td>Absent</td>\n",
       "      <td>17</td>\n",
       "      <td>7</td>\n",
       "      <td>4</td>\n",
       "      <td>1230</td>\n",
       "      <td>17</td>\n",
       "      <td>19</td>\n",
       "      <td>1265</td>\n",
       "      <td>1230</td>\n",
       "      <td>17</td>\n",
       "      <td>0.0</td>\n",
       "      <td>0</td>\n",
       "    </tr>\n",
       "    <tr>\n",
       "      <th>2</th>\n",
       "      <td>16</td>\n",
       "      <td>6</td>\n",
       "      <td>us-ascii</td>\n",
       "      <td>Microsoft-HTTPAPI/2.0</td>\n",
       "      <td>324.0</td>\n",
       "      <td>None</td>\n",
       "      <td>Absent</td>\n",
       "      <td>Absent</td>\n",
       "      <td>0</td>\n",
       "      <td>0</td>\n",
       "      <td>0</td>\n",
       "      <td>0</td>\n",
       "      <td>0</td>\n",
       "      <td>0</td>\n",
       "      <td>0</td>\n",
       "      <td>0</td>\n",
       "      <td>0</td>\n",
       "      <td>0.0</td>\n",
       "      <td>0</td>\n",
       "    </tr>\n",
       "    <tr>\n",
       "      <th>3</th>\n",
       "      <td>17</td>\n",
       "      <td>6</td>\n",
       "      <td>ISO-8859-1</td>\n",
       "      <td>nginx</td>\n",
       "      <td>162.0</td>\n",
       "      <td>OTHERS</td>\n",
       "      <td>Present</td>\n",
       "      <td>Present</td>\n",
       "      <td>31</td>\n",
       "      <td>22</td>\n",
       "      <td>3</td>\n",
       "      <td>3812</td>\n",
       "      <td>39</td>\n",
       "      <td>37</td>\n",
       "      <td>18784</td>\n",
       "      <td>4380</td>\n",
       "      <td>39</td>\n",
       "      <td>8.0</td>\n",
       "      <td>0</td>\n",
       "    </tr>\n",
       "    <tr>\n",
       "      <th>4</th>\n",
       "      <td>17</td>\n",
       "      <td>6</td>\n",
       "      <td>UTF-8</td>\n",
       "      <td>None</td>\n",
       "      <td>124140.0</td>\n",
       "      <td>OTHERS</td>\n",
       "      <td>Present</td>\n",
       "      <td>Present</td>\n",
       "      <td>57</td>\n",
       "      <td>2</td>\n",
       "      <td>5</td>\n",
       "      <td>4278</td>\n",
       "      <td>61</td>\n",
       "      <td>62</td>\n",
       "      <td>129889</td>\n",
       "      <td>4586</td>\n",
       "      <td>61</td>\n",
       "      <td>4.0</td>\n",
       "      <td>0</td>\n",
       "    </tr>\n",
       "  </tbody>\n",
       "</table>\n",
       "</div>"
      ],
      "text/plain": [
       "   URL_LENGTH  NUMBER_SPECIAL_CHARACTERS     CHARSET                 SERVER  \\\n",
       "0          16                          7  iso-8859-1                  nginx   \n",
       "1          16                          6       UTF-8                 OTHERS   \n",
       "2          16                          6    us-ascii  Microsoft-HTTPAPI/2.0   \n",
       "3          17                          6  ISO-8859-1                  nginx   \n",
       "4          17                          6       UTF-8                   None   \n",
       "\n",
       "   CONTENT_LENGTH WHOIS_STATEPRO WHOIS_REGDATE WHOIS_UPDATED_DATE  \\\n",
       "0           263.0           None       Present             Absent   \n",
       "1         15087.0           None        Absent             Absent   \n",
       "2           324.0           None        Absent             Absent   \n",
       "3           162.0         OTHERS       Present            Present   \n",
       "4        124140.0         OTHERS       Present            Present   \n",
       "\n",
       "   TCP_CONVERSATION_EXCHANGE  DIST_REMOTE_TCP_PORT  REMOTE_IPS  APP_BYTES  \\\n",
       "0                          7                     0           2        700   \n",
       "1                         17                     7           4       1230   \n",
       "2                          0                     0           0          0   \n",
       "3                         31                    22           3       3812   \n",
       "4                         57                     2           5       4278   \n",
       "\n",
       "   SOURCE_APP_PACKETS  REMOTE_APP_PACKETS  SOURCE_APP_BYTES  REMOTE_APP_BYTES  \\\n",
       "0                   9                  10              1153               832   \n",
       "1                  17                  19              1265              1230   \n",
       "2                   0                   0                 0                 0   \n",
       "3                  39                  37             18784              4380   \n",
       "4                  61                  62            129889              4586   \n",
       "\n",
       "   APP_PACKETS  DNS_QUERY_TIMES  Type  \n",
       "0            9              2.0     1  \n",
       "1           17              0.0     0  \n",
       "2            0              0.0     0  \n",
       "3           39              8.0     0  \n",
       "4           61              4.0     0  "
      ]
     },
     "execution_count": 28,
     "metadata": {},
     "output_type": "execute_result"
    }
   ],
   "source": [
    "df.head()"
   ]
  },
  {
   "cell_type": "markdown",
   "id": "b9488e4e-683e-435c-96b6-3a884e47e69d",
   "metadata": {},
   "source": [
    "## EDA continued"
   ]
  },
  {
   "cell_type": "markdown",
   "id": "4f890244-66ec-441a-b10c-2016d3b8be59",
   "metadata": {},
   "source": [
    "### 3) Correlation Heat map"
   ]
  },
  {
   "cell_type": "code",
   "execution_count": 29,
   "id": "2965f4f5-e67b-423d-87e5-01c29742233a",
   "metadata": {},
   "outputs": [
    {
     "data": {
      "text/plain": [
       "<AxesSubplot:>"
      ]
     },
     "execution_count": 29,
     "metadata": {},
     "output_type": "execute_result"
    },
    {
     "data": {
      "image/png": "[encoded data removed]",
      "text/plain": [
       "<Figure size 1440x720 with 2 Axes>"
      ]
     },
     "metadata": {
      "needs_background": "light"
     },
     "output_type": "display_data"
    }
   ],
   "source": [
    "plt.figure(figsize=(20,10))\n",
    "sns.heatmap(data=df.corr(),cmap='plasma',annot=True)"
   ]
  },
  {
   "cell_type": "markdown",
   "id": "8762a55b-e1b1-4b38-8b44-3eb029dfea73",
   "metadata": {},
   "source": [
    "#### Although we can see some highly correlated features, it won't be wise to remove them all as that could lead us to significant loss in drawing out inferences. Hence, we'll only remove those columns which won;t have much impact on analysis and frther modelling"
   ]
  },
  {
   "cell_type": "markdown",
   "id": "73dda46b-819e-4244-ba43-c9bdb51bef51",
   "metadata": {},
   "source": [
    "#### Since Content Length is not significantly correlated with any of the features and also contains a lot of missing values. It would be good if we drop it out."
   ]
  },
  {
   "cell_type": "code",
   "execution_count": 30,
   "id": "1cee391f-45b9-4e35-9990-61269a3146dd",
   "metadata": {},
   "outputs": [],
   "source": [
    "df2 = df.copy() # creating a copy of our dataframe"
   ]
  },
  {
   "cell_type": "code",
   "execution_count": 31,
   "id": "a8510ba9-682c-4d8c-883a-2260d9088d69",
   "metadata": {},
   "outputs": [],
   "source": [
    "df2.drop(\"CONTENT_LENGTH\",axis=1,inplace=True) # dropping the column which is not required"
   ]
  },
  {
   "cell_type": "markdown",
   "id": "23fe0795-03c4-4881-8a88-54bea33928f7",
   "metadata": {},
   "source": [
    "## Feature Engineering and Feature Selection"
   ]
  },
  {
   "cell_type": "markdown",
   "id": "043333fa-ee32-4e87-a934-a20190d8f238",
   "metadata": {},
   "source": [
    "#### Changing categorical column into dummies"
   ]
  },
  {
   "cell_type": "code",
   "execution_count": 32,
   "id": "8df8f2de-7393-427a-bcb6-da95497c7294",
   "metadata": {},
   "outputs": [],
   "source": [
    "df3 = df2.copy() # creating a copy of the dataframe"
   ]
  },
  {
   "cell_type": "code",
   "execution_count": 33,
   "id": "953f911e-1009-418c-af3f-c741c2433398",
   "metadata": {},
   "outputs": [],
   "source": [
    "df3 = pd.get_dummies(df3,columns=['WHOIS_UPDATED_DATE','WHOIS_REGDATE','WHOIS_STATEPRO','SERVER','CHARSET'],drop_first=True) # creating dummies"
   ]
  },
  {
   "cell_type": "code",
   "execution_count": 34,
   "id": "bddf9f9b-6aae-477e-8832-51106abe8972",
   "metadata": {},
   "outputs": [
    {
     "data": {
      "text/html": [
       "<div>\n",
       "<style scoped>\n",
       "    .dataframe tbody tr th:only-of-type {\n",
       "        vertical-align: middle;\n",
       "    }\n",
       "\n",
       "    .dataframe tbody tr th {\n",
       "        vertical-align: top;\n",
       "    }\n",
       "\n",
       "    .dataframe thead th {\n",
       "        text-align: right;\n",
       "    }\n",
       "</style>\n",
       "<table border=\"1\" class=\"dataframe\">\n",
       "  <thead>\n",
       "    <tr style=\"text-align: right;\">\n",
       "      <th></th>\n",
       "      <th>URL_LENGTH</th>\n",
       "      <th>NUMBER_SPECIAL_CHARACTERS</th>\n",
       "      <th>TCP_CONVERSATION_EXCHANGE</th>\n",
       "      <th>DIST_REMOTE_TCP_PORT</th>\n",
       "      <th>REMOTE_IPS</th>\n",
       "      <th>APP_BYTES</th>\n",
       "      <th>SOURCE_APP_PACKETS</th>\n",
       "      <th>REMOTE_APP_PACKETS</th>\n",
       "      <th>SOURCE_APP_BYTES</th>\n",
       "      <th>REMOTE_APP_BYTES</th>\n",
       "      <th>...</th>\n",
       "      <th>SERVER_Microsoft-HTTPAPI/2.0</th>\n",
       "      <th>SERVER_None</th>\n",
       "      <th>SERVER_OTHERS</th>\n",
       "      <th>SERVER_cloudflare-nginx</th>\n",
       "      <th>SERVER_nginx</th>\n",
       "      <th>CHARSET_OTHERS</th>\n",
       "      <th>CHARSET_UTF-8</th>\n",
       "      <th>CHARSET_iso-8859-1</th>\n",
       "      <th>CHARSET_us-ascii</th>\n",
       "      <th>CHARSET_utf-8</th>\n",
       "    </tr>\n",
       "  </thead>\n",
       "  <tbody>\n",
       "    <tr>\n",
       "      <th>0</th>\n",
       "      <td>16</td>\n",
       "      <td>7</td>\n",
       "      <td>7</td>\n",
       "      <td>0</td>\n",
       "      <td>2</td>\n",
       "      <td>700</td>\n",
       "      <td>9</td>\n",
       "      <td>10</td>\n",
       "      <td>1153</td>\n",
       "      <td>832</td>\n",
       "      <td>...</td>\n",
       "      <td>0</td>\n",
       "      <td>0</td>\n",
       "      <td>0</td>\n",
       "      <td>0</td>\n",
       "      <td>1</td>\n",
       "      <td>0</td>\n",
       "      <td>0</td>\n",
       "      <td>1</td>\n",
       "      <td>0</td>\n",
       "      <td>0</td>\n",
       "    </tr>\n",
       "    <tr>\n",
       "      <th>1</th>\n",
       "      <td>16</td>\n",
       "      <td>6</td>\n",
       "      <td>17</td>\n",
       "      <td>7</td>\n",
       "      <td>4</td>\n",
       "      <td>1230</td>\n",
       "      <td>17</td>\n",
       "      <td>19</td>\n",
       "      <td>1265</td>\n",
       "      <td>1230</td>\n",
       "      <td>...</td>\n",
       "      <td>0</td>\n",
       "      <td>0</td>\n",
       "      <td>1</td>\n",
       "      <td>0</td>\n",
       "      <td>0</td>\n",
       "      <td>0</td>\n",
       "      <td>1</td>\n",
       "      <td>0</td>\n",
       "      <td>0</td>\n",
       "      <td>0</td>\n",
       "    </tr>\n",
       "    <tr>\n",
       "      <th>2</th>\n",
       "      <td>16</td>\n",
       "      <td>6</td>\n",
       "      <td>0</td>\n",
       "      <td>0</td>\n",
       "      <td>0</td>\n",
       "      <td>0</td>\n",
       "      <td>0</td>\n",
       "      <td>0</td>\n",
       "      <td>0</td>\n",
       "      <td>0</td>\n",
       "      <td>...</td>\n",
       "      <td>1</td>\n",
       "      <td>0</td>\n",
       "      <td>0</td>\n",
       "      <td>0</td>\n",
       "      <td>0</td>\n",
       "      <td>0</td>\n",
       "      <td>0</td>\n",
       "      <td>0</td>\n",
       "      <td>1</td>\n",
       "      <td>0</td>\n",
       "    </tr>\n",
       "    <tr>\n",
       "      <th>3</th>\n",
       "      <td>17</td>\n",
       "      <td>6</td>\n",
       "      <td>31</td>\n",
       "      <td>22</td>\n",
       "      <td>3</td>\n",
       "      <td>3812</td>\n",
       "      <td>39</td>\n",
       "      <td>37</td>\n",
       "      <td>18784</td>\n",
       "      <td>4380</td>\n",
       "      <td>...</td>\n",
       "      <td>0</td>\n",
       "      <td>0</td>\n",
       "      <td>0</td>\n",
       "      <td>0</td>\n",
       "      <td>1</td>\n",
       "      <td>0</td>\n",
       "      <td>0</td>\n",
       "      <td>0</td>\n",
       "      <td>0</td>\n",
       "      <td>0</td>\n",
       "    </tr>\n",
       "    <tr>\n",
       "      <th>4</th>\n",
       "      <td>17</td>\n",
       "      <td>6</td>\n",
       "      <td>57</td>\n",
       "      <td>2</td>\n",
       "      <td>5</td>\n",
       "      <td>4278</td>\n",
       "      <td>61</td>\n",
       "      <td>62</td>\n",
       "      <td>129889</td>\n",
       "      <td>4586</td>\n",
       "      <td>...</td>\n",
       "      <td>0</td>\n",
       "      <td>1</td>\n",
       "      <td>0</td>\n",
       "      <td>0</td>\n",
       "      <td>0</td>\n",
       "      <td>0</td>\n",
       "      <td>1</td>\n",
       "      <td>0</td>\n",
       "      <td>0</td>\n",
       "      <td>0</td>\n",
       "    </tr>\n",
       "  </tbody>\n",
       "</table>\n",
       "<p>5 rows × 31 columns</p>\n",
       "</div>"
      ],
      "text/plain": [
       "   URL_LENGTH  NUMBER_SPECIAL_CHARACTERS  TCP_CONVERSATION_EXCHANGE  \\\n",
       "0          16                          7                          7   \n",
       "1          16                          6                         17   \n",
       "2          16                          6                          0   \n",
       "3          17                          6                         31   \n",
       "4          17                          6                         57   \n",
       "\n",
       "   DIST_REMOTE_TCP_PORT  REMOTE_IPS  APP_BYTES  SOURCE_APP_PACKETS  \\\n",
       "0                     0           2        700                   9   \n",
       "1                     7           4       1230                  17   \n",
       "2                     0           0          0                   0   \n",
       "3                    22           3       3812                  39   \n",
       "4                     2           5       4278                  61   \n",
       "\n",
       "   REMOTE_APP_PACKETS  SOURCE_APP_BYTES  REMOTE_APP_BYTES  ...  \\\n",
       "0                  10              1153               832  ...   \n",
       "1                  19              1265              1230  ...   \n",
       "2                   0                 0                 0  ...   \n",
       "3                  37             18784              4380  ...   \n",
       "4                  62            129889              4586  ...   \n",
       "\n",
       "   SERVER_Microsoft-HTTPAPI/2.0  SERVER_None  SERVER_OTHERS  \\\n",
       "0                             0            0              0   \n",
       "1                             0            0              1   \n",
       "2                             1            0              0   \n",
       "3                             0            0              0   \n",
       "4                             0            1              0   \n",
       "\n",
       "   SERVER_cloudflare-nginx  SERVER_nginx  CHARSET_OTHERS  CHARSET_UTF-8  \\\n",
       "0                        0             1               0              0   \n",
       "1                        0             0               0              1   \n",
       "2                        0             0               0              0   \n",
       "3                        0             1               0              0   \n",
       "4                        0             0               0              1   \n",
       "\n",
       "   CHARSET_iso-8859-1  CHARSET_us-ascii  CHARSET_utf-8  \n",
       "0                   1                 0              0  \n",
       "1                   0                 0              0  \n",
       "2                   0                 1              0  \n",
       "3                   0                 0              0  \n",
       "4                   0                 0              0  \n",
       "\n",
       "[5 rows x 31 columns]"
      ]
     },
     "execution_count": 34,
     "metadata": {},
     "output_type": "execute_result"
    }
   ],
   "source": [
    "df3.head() # checking the head"
   ]
  },
  {
   "cell_type": "code",
   "execution_count": 35,
   "id": "cf46019c-03b3-40ee-b8d6-a9a18bc85271",
   "metadata": {},
   "outputs": [
    {
     "data": {
      "text/plain": [
       "URL_LENGTH                      0\n",
       "NUMBER_SPECIAL_CHARACTERS       0\n",
       "TCP_CONVERSATION_EXCHANGE       0\n",
       "DIST_REMOTE_TCP_PORT            0\n",
       "REMOTE_IPS                      0\n",
       "APP_BYTES                       0\n",
       "SOURCE_APP_PACKETS              0\n",
       "REMOTE_APP_PACKETS              0\n",
       "SOURCE_APP_BYTES                0\n",
       "REMOTE_APP_BYTES                0\n",
       "APP_PACKETS                     0\n",
       "DNS_QUERY_TIMES                 1\n",
       "Type                            0\n",
       "WHOIS_UPDATED_DATE_Present      0\n",
       "WHOIS_REGDATE_Present           0\n",
       "WHOIS_STATEPRO_CA               0\n",
       "WHOIS_STATEPRO_FL               0\n",
       "WHOIS_STATEPRO_NY               0\n",
       "WHOIS_STATEPRO_None             0\n",
       "WHOIS_STATEPRO_OTHERS           0\n",
       "WHOIS_STATEPRO_WA               0\n",
       "SERVER_Microsoft-HTTPAPI/2.0    0\n",
       "SERVER_None                     0\n",
       "SERVER_OTHERS                   0\n",
       "SERVER_cloudflare-nginx         0\n",
       "SERVER_nginx                    0\n",
       "CHARSET_OTHERS                  0\n",
       "CHARSET_UTF-8                   0\n",
       "CHARSET_iso-8859-1              0\n",
       "CHARSET_us-ascii                0\n",
       "CHARSET_utf-8                   0\n",
       "dtype: int64"
      ]
     },
     "execution_count": 35,
     "metadata": {},
     "output_type": "execute_result"
    }
   ],
   "source": [
    "df3.isna().sum() # checking for any missing value"
   ]
  },
  {
   "cell_type": "code",
   "execution_count": 36,
   "id": "530d91d6-09c6-471b-9e47-f587b63afc13",
   "metadata": {},
   "outputs": [],
   "source": [
    "df3.dropna(inplace=True) # dropping all the missing values"
   ]
  },
  {
   "cell_type": "markdown",
   "id": "3e73bfb7-a516-420d-9c35-9c02af94bd26",
   "metadata": {},
   "source": [
    "### Using SMOTE to extrapolate our model"
   ]
  },
  {
   "cell_type": "markdown",
   "id": "ce210368-bb29-41bc-968b-90b85ff21fc9",
   "metadata": {},
   "source": [
    "`About SMOTE`: Synthetic Minority Oversampling Technique (SMOTE) is a resampling technique which oversamples the minority class by \"synthesizing\" various parameters and creating new data points by using various \"data augmentation\" techniques. By this, we get enough numbers of minority class data points to sufficiently carry out the learning processes for the ML model. Hence, we avoid data duplication of minority class (which is the case in oversampling).  "
   ]
  },
  {
   "cell_type": "code",
   "execution_count": 37,
   "id": "18ceab4f-4f3d-43c8-a1b1-45681459c861",
   "metadata": {},
   "outputs": [],
   "source": [
    "# Importing the SMOTE function\n",
    "from imblearn.over_sampling import SMOTE"
   ]
  },
  {
   "cell_type": "code",
   "execution_count": 38,
   "id": "8d21b544-aafa-4e9b-a974-6d0eac47428f",
   "metadata": {},
   "outputs": [],
   "source": [
    "# Creating the set of independent features and target variable\n",
    "X = df3.drop(\"Type\",axis=1)\n",
    "y = df3['Type']"
   ]
  },
  {
   "cell_type": "code",
   "execution_count": 39,
   "id": "8c4403e4-cceb-4faa-9a5f-e5693193f027",
   "metadata": {},
   "outputs": [],
   "source": [
    "from imblearn.under_sampling import RandomUnderSampler  # importing the Under Sampling function"
   ]
  },
  {
   "cell_type": "code",
   "execution_count": 40,
   "id": "9431cf61-f6ef-4064-91c5-3fc68c1c7f4d",
   "metadata": {},
   "outputs": [],
   "source": [
    "# We shall keep undersampled majority class 50% more than the oversampled minority class. \n",
    "# This is being done on order to resemble the composition of original dataframe in the SMOTE's dataframe\n",
    "undersample = RandomUnderSampler(sampling_strategy=0.5) "
   ]
  },
  {
   "cell_type": "code",
   "execution_count": 41,
   "id": "6a19f142-0416-46c8-93c2-9628a1778a51",
   "metadata": {},
   "outputs": [],
   "source": [
    "from imblearn.pipeline import Pipeline # Importing the pipeline"
   ]
  },
  {
   "cell_type": "code",
   "execution_count": 42,
   "id": "ed07c5c4-3876-40a2-b737-19f2a2c8526f",
   "metadata": {},
   "outputs": [],
   "source": [
    "# Initializing the SMOTE function. We set our SMOTE function to oversample the minority to the number equal to the majority class. \n",
    "#Then, we take 50% of the oversampled minority class (randomly sampled).\n",
    "oversample = SMOTE(sampling_strategy=0.5) "
   ]
  },
  {
   "cell_type": "code",
   "execution_count": 43,
   "id": "b185ab67-d345-4b0c-97b5-de48a7852ea1",
   "metadata": {},
   "outputs": [],
   "source": [
    "steps = [('o',oversample),('u',undersample)] # steps for pipelining. First \"do oversampling of the minority class\" and then do \"undersampling of the majority class\""
   ]
  },
  {
   "cell_type": "code",
   "execution_count": 44,
   "id": "f574be40-58aa-4415-ae29-ba4a797022a5",
   "metadata": {},
   "outputs": [],
   "source": [
    "pipeline = Pipeline(steps=steps) # Creating the pipeline instance"
   ]
  },
  {
   "cell_type": "code",
   "execution_count": 45,
   "id": "43500215-e574-4c92-9602-9c171f8143ff",
   "metadata": {},
   "outputs": [],
   "source": [
    "X_smote, y_smote = pipeline.fit_resample(X,y) # Fitting the pipeline to our dataset"
   ]
  },
  {
   "cell_type": "code",
   "execution_count": 46,
   "id": "20d9837c-5733-4931-be75-ea7a46361872",
   "metadata": {},
   "outputs": [
    {
     "data": {
      "text/plain": [
       "0    1564\n",
       "1     782\n",
       "Name: Type, dtype: int64"
      ]
     },
     "execution_count": 46,
     "metadata": {},
     "output_type": "execute_result"
    }
   ],
   "source": [
    "y_smote.value_counts() # Taking value counts of the targte feature"
   ]
  },
  {
   "cell_type": "code",
   "execution_count": 47,
   "id": "d225e585-ea33-41ec-95f3-58002afc7d72",
   "metadata": {},
   "outputs": [
    {
     "data": {
      "text/plain": [
       "2346"
      ]
     },
     "execution_count": 47,
     "metadata": {},
     "output_type": "execute_result"
    }
   ],
   "source": [
    "len(X_smote) # checking the total number of samples we have"
   ]
  },
  {
   "cell_type": "code",
   "execution_count": 48,
   "id": "68d17078-9601-4329-9fbf-5e43f6ec899f",
   "metadata": {},
   "outputs": [
    {
     "data": {
      "text/plain": [
       "(2346, 30)"
      ]
     },
     "execution_count": 48,
     "metadata": {},
     "output_type": "execute_result"
    }
   ],
   "source": [
    "X_smote.shape # checking the shape"
   ]
  },
  {
   "cell_type": "markdown",
   "id": "32a3185d-aaa0-481f-b424-7459e53daed3",
   "metadata": {},
   "source": [
    "### SMOTE has been implemented. Now, we'll start the modelling by first creating a hold-out train and test set and then using stratified cross validation to cover all possibilities"
   ]
  },
  {
   "cell_type": "code",
   "execution_count": 49,
   "id": "e8929217-df35-42b0-a5e3-134dd6a41397",
   "metadata": {},
   "outputs": [],
   "source": [
    "from sklearn.model_selection import train_test_split,StratifiedKFold,cross_val_score,cross_validate  # Implementing the required functions"
   ]
  },
  {
   "cell_type": "code",
   "execution_count": 50,
   "id": "1d439f22-e8c7-4d5e-9f6f-82d4b51abb7a",
   "metadata": {},
   "outputs": [],
   "source": [
    "X_train, X_test, y_train, y_test = train_test_split(X, y, test_size=0.2, random_state=42) # creating a test holdout set"
   ]
  },
  {
   "cell_type": "code",
   "execution_count": 51,
   "id": "6b28b3a0-fd74-436c-bfeb-68272580d439",
   "metadata": {},
   "outputs": [],
   "source": [
    "from sklearn.preprocessing import StandardScaler # import the standard scaling function"
   ]
  },
  {
   "cell_type": "code",
   "execution_count": 52,
   "id": "fc4b3b55-60d1-4d07-a324-ef78e8af6347",
   "metadata": {},
   "outputs": [],
   "source": [
    "sc = StandardScaler() # creating an instance of the scaling function"
   ]
  },
  {
   "cell_type": "code",
   "execution_count": 53,
   "id": "7da6c444-763e-4382-867a-3229c3bf5ca5",
   "metadata": {},
   "outputs": [],
   "source": [
    "X_train = sc.fit_transform(X_train) # fitting and transform the training set\n",
    "X_test = sc.transform(X_test) # just transforming the testing set to avoid 'data leakage'"
   ]
  },
  {
   "cell_type": "code",
   "execution_count": 54,
   "id": "3b96a2d5-8341-4f83-9633-96afa1cb925b",
   "metadata": {},
   "outputs": [],
   "source": [
    "from sklearn.metrics import confusion_matrix,classification_report,accuracy_score,f1_score,fbeta_score,make_scorer,precision_score,recall_score \n",
    "# importing all the metric scores required for evaluation"
   ]
  },
  {
   "cell_type": "code",
   "execution_count": 55,
   "id": "1a4fe3f0-ad47-4b08-9409-2b55715b5ed9",
   "metadata": {},
   "outputs": [],
   "source": [
    "# creating a dictionary to evaluate metric over stratified k-fold cv\n",
    "scoring = {'accuracy' : make_scorer(accuracy_score), \n",
    "           'precision' : make_scorer(precision_score),\n",
    "           'recall' : make_scorer(recall_score), \n",
    "           'f1_score' : make_scorer(f1_score)}"
   ]
  },
  {
   "cell_type": "code",
   "execution_count": null,
   "id": "70ec03b4-d503-4cbb-ac67-e0946bbd1322",
   "metadata": {},
   "outputs": [],
   "source": []
  },
  {
   "cell_type": "markdown",
   "id": "bb80312f-46e3-4d99-bf2e-2e471cdfa907",
   "metadata": {},
   "source": [
    "### We'll be using tree based ensemble models as they are immune to multicollinearity"
   ]
  },
  {
   "cell_type": "markdown",
   "id": "bcebfefd-67d8-4dcb-8f35-25c34981fd5b",
   "metadata": {},
   "source": [
    "### Note: We're interested in a model which has high recall as we want to minimize False Negative Rate at the same time keeping precision high as well. Hence, we need to find a `sweet spot` while evaluating our model"
   ]
  },
  {
   "cell_type": "markdown",
   "id": "2f155827-83b2-4c92-9898-e689ca53a3f4",
   "metadata": {},
   "source": [
    "### 1) Random Forest"
   ]
  },
  {
   "cell_type": "code",
   "execution_count": 56,
   "id": "934d3245-8ae9-442f-9ae8-77c7614be402",
   "metadata": {},
   "outputs": [],
   "source": [
    "from sklearn.ensemble import RandomForestClassifier # importing the function"
   ]
  },
  {
   "cell_type": "code",
   "execution_count": 57,
   "id": "8b84dfef-d8bf-4681-afef-02fd5b8306a9",
   "metadata": {},
   "outputs": [],
   "source": [
    "rf = RandomForestClassifier(n_estimators=100,criterion='entropy',random_state=42,class_weight={0:1,1:5},max_depth=5) # creating an instance"
   ]
  },
  {
   "cell_type": "code",
   "execution_count": 58,
   "id": "c6cac954-dbf3-44e9-b1ac-eead924a1338",
   "metadata": {},
   "outputs": [
    {
     "data": {
      "text/plain": [
       "RandomForestClassifier(class_weight={0: 1, 1: 5}, criterion='entropy',\n",
       "                       max_depth=5, random_state=42)"
      ]
     },
     "execution_count": 58,
     "metadata": {},
     "output_type": "execute_result"
    }
   ],
   "source": [
    "rf.fit(X_train,y_train) # fitting the model"
   ]
  },
  {
   "cell_type": "code",
   "execution_count": 59,
   "id": "f857e700-2bbc-4c9f-accc-cf1ea8b18b77",
   "metadata": {},
   "outputs": [],
   "source": [
    "rf_cv_f1 = cross_validate(rf,X_test,y_test,cv=StratifiedKFold(n_splits=5,shuffle=True,random_state=111),scoring=scoring) \n",
    "# cross-validating our model over 5 folds and evaluting metrics are: accuracy, precision, recall and F-1 score"
   ]
  },
  {
   "cell_type": "code",
   "execution_count": 60,
   "id": "2e0c3543-8559-416b-adb4-7d2f0c00bf35",
   "metadata": {},
   "outputs": [
    {
     "name": "stdout",
     "output_type": "stream",
     "text": [
      " ACCURACY: 0.8958528951486698\n",
      " PRECISION: 0.6437762237762238\n",
      " RECALL: 0.7872727272727272\n",
      " F-1 Score: 0.695487012987013\n"
     ]
    }
   ],
   "source": [
    "print(f\" ACCURACY: {rf_cv_f1['test_accuracy'].mean()}\")\n",
    "print(f\" PRECISION: {rf_cv_f1['test_precision'].mean()}\")\n",
    "print(f\" RECALL: {rf_cv_f1['test_recall'].mean()}\")\n",
    "print(f\" F-1 Score: {rf_cv_f1['test_f1_score'].mean()}\")"
   ]
  },
  {
   "cell_type": "code",
   "execution_count": 61,
   "id": "2ac1886b-f932-4c58-b525-b3509a3b218c",
   "metadata": {},
   "outputs": [],
   "source": [
    "rf_pred = rf.predict(X_test) # predicting on the hold out test set"
   ]
  },
  {
   "cell_type": "code",
   "execution_count": 62,
   "id": "18043f40-84b2-4dd5-b518-6dce5885bc61",
   "metadata": {},
   "outputs": [
    {
     "name": "stdout",
     "output_type": "stream",
     "text": [
      "              precision    recall  f1-score   support\n",
      "\n",
      "           0       0.98      0.93      0.95       304\n",
      "           1       0.69      0.87      0.77        52\n",
      "\n",
      "    accuracy                           0.92       356\n",
      "   macro avg       0.83      0.90      0.86       356\n",
      "weighted avg       0.93      0.92      0.93       356\n",
      "\n",
      "[[284  20]\n",
      " [  7  45]]\n"
     ]
    }
   ],
   "source": [
    "print(classification_report(y_test,rf_pred)) \n",
    "print(confusion_matrix(y_test,rf_pred))"
   ]
  },
  {
   "cell_type": "code",
   "execution_count": null,
   "id": "ecb67f8f-e519-4d5e-898f-aeb605529ab2",
   "metadata": {},
   "outputs": [],
   "source": []
  },
  {
   "cell_type": "markdown",
   "id": "30be4e1a-9475-493b-935d-0c1986f70123",
   "metadata": {},
   "source": [
    "### 2) Catboost"
   ]
  },
  {
   "cell_type": "code",
   "execution_count": 63,
   "id": "74ca6a9d-7cdb-4572-be61-f090ec6f1888",
   "metadata": {},
   "outputs": [],
   "source": [
    "from catboost import CatBoostClassifier # importing the function"
   ]
  },
  {
   "cell_type": "code",
   "execution_count": 64,
   "id": "15d63a00-c8a6-4228-af58-3384ebc209fd",
   "metadata": {},
   "outputs": [],
   "source": [
    "cb = CatBoostClassifier(random_state=42,verbose=500,class_weights={0:1,1:5},max_depth=5,early_stopping_rounds=30,boosting_type='Ordered') # creating an instance"
   ]
  },
  {
   "cell_type": "code",
   "execution_count": 65,
   "id": "110fe620-df4e-47b0-9591-8b1f5652e83f",
   "metadata": {},
   "outputs": [
    {
     "name": "stdout",
     "output_type": "stream",
     "text": [
      "Learning rate set to 0.011981\n",
      "0:\tlearn: 0.6756274\ttotal: 155ms\tremaining: 2m 34s\n",
      "500:\tlearn: 0.1157566\ttotal: 3.83s\tremaining: 3.81s\n",
      "999:\tlearn: 0.0604226\ttotal: 7.52s\tremaining: 0us\n"
     ]
    },
    {
     "data": {
      "text/plain": [
       "<catboost.core.CatBoostClassifier at 0x1e4dbafbc10>"
      ]
     },
     "execution_count": 65,
     "metadata": {},
     "output_type": "execute_result"
    }
   ],
   "source": [
    "cb.fit(X_train,y_train) # fitting the model"
   ]
  },
  {
   "cell_type": "code",
   "execution_count": 66,
   "id": "7dd89025-aac1-4254-92aa-631ce686f1ec",
   "metadata": {},
   "outputs": [
    {
     "name": "stdout",
     "output_type": "stream",
     "text": [
      "Learning rate set to 0.006019\n",
      "0:\tlearn: 0.6857393\ttotal: 9.25ms\tremaining: 9.24s\n",
      "500:\tlearn: 0.1806446\ttotal: 3.62s\tremaining: 3.6s\n",
      "999:\tlearn: 0.1018346\ttotal: 7.14s\tremaining: 0us\n",
      "Learning rate set to 0.006028\n",
      "0:\tlearn: 0.6866775\ttotal: 6.18ms\tremaining: 6.18s\n",
      "500:\tlearn: 0.1822175\ttotal: 3.44s\tremaining: 3.42s\n",
      "999:\tlearn: 0.1087319\ttotal: 6.92s\tremaining: 0us\n",
      "Learning rate set to 0.006028\n",
      "0:\tlearn: 0.6867839\ttotal: 6.48ms\tremaining: 6.47s\n",
      "500:\tlearn: 0.1680272\ttotal: 3.69s\tremaining: 3.67s\n",
      "999:\tlearn: 0.0988092\ttotal: 7.54s\tremaining: 0us\n",
      "Learning rate set to 0.006028\n",
      "0:\tlearn: 0.6867894\ttotal: 6.71ms\tremaining: 6.7s\n",
      "500:\tlearn: 0.1909167\ttotal: 3.61s\tremaining: 3.6s\n",
      "999:\tlearn: 0.1079882\ttotal: 7.3s\tremaining: 0us\n",
      "Learning rate set to 0.006028\n",
      "0:\tlearn: 0.6872671\ttotal: 6.03ms\tremaining: 6.02s\n",
      "500:\tlearn: 0.1850676\ttotal: 3.55s\tremaining: 3.53s\n",
      "999:\tlearn: 0.1092527\ttotal: 7.36s\tremaining: 0us\n"
     ]
    }
   ],
   "source": [
    "cb_cv_f1 = cross_validate(cb,X_test,y_test,cv=StratifiedKFold(n_splits=5,shuffle=True,random_state=42),scoring=scoring)\n",
    "# cross-validating our model over 5 folds and evaluting metrics are: accuracy, precision, recall and F-1 score"
   ]
  },
  {
   "cell_type": "code",
   "execution_count": 67,
   "id": "4b5f80fa-fa81-4807-bcfc-8beee43eea78",
   "metadata": {},
   "outputs": [
    {
     "name": "stdout",
     "output_type": "stream",
     "text": [
      " ACCURACY: 0.901643192488263\n",
      " PRECISION: 0.636451969083548\n",
      " RECALL: 0.8272727272727272\n",
      " F-1 Score: 0.7126429512516469\n"
     ]
    }
   ],
   "source": [
    "print(f\" ACCURACY: {cb_cv_f1['test_accuracy'].mean()}\")\n",
    "print(f\" PRECISION: {cb_cv_f1['test_precision'].mean()}\")\n",
    "print(f\" RECALL: {cb_cv_f1['test_recall'].mean()}\")\n",
    "print(f\" F-1 Score: {cb_cv_f1['test_f1_score'].mean()}\")"
   ]
  },
  {
   "cell_type": "code",
   "execution_count": 68,
   "id": "f2778cad-b59d-4864-8c2f-537bc22b4e38",
   "metadata": {},
   "outputs": [],
   "source": [
    "cb_pred = cb.predict(X_test) # predicting on the hold out test set"
   ]
  },
  {
   "cell_type": "code",
   "execution_count": 82,
   "id": "29b3935a-ed10-46fc-9294-3535e98942fc",
   "metadata": {},
   "outputs": [
    {
     "name": "stdout",
     "output_type": "stream",
     "text": [
      "              precision    recall  f1-score   support\n",
      "\n",
      "           0       0.98      0.96      0.97       304\n",
      "           1       0.79      0.87      0.83        52\n",
      "\n",
      "    accuracy                           0.95       356\n",
      "   macro avg       0.88      0.91      0.90       356\n",
      "weighted avg       0.95      0.95      0.95       356\n",
      "\n",
      "[[292  12]\n",
      " [  7  45]]\n",
      "0.7894736842105263\n",
      "0.8653846153846154\n",
      "0.8256880733944955\n"
     ]
    }
   ],
   "source": [
    "print(classification_report(y_test,cb_pred))\n",
    "print(confusion_matrix(y_test,cb_pred))\n",
    "print(precision_score(y_test,cb_pred))\n",
    "print(recall_score(y_test,cb_pred))\n",
    "print(f1_score(y_test,cb_pred))"
   ]
  },
  {
   "cell_type": "code",
   "execution_count": null,
   "id": "2136f4e5-4964-46c3-9aa5-4f77c61c387b",
   "metadata": {},
   "outputs": [],
   "source": []
  },
  {
   "cell_type": "markdown",
   "id": "e83ff77e-e1dc-4a5e-9701-917685f63549",
   "metadata": {},
   "source": [
    "### Catboost Classifier is the best optimal model for our data as it is quite robust, immune to multicollinearity and has high recall and F-1 score"
   ]
  },
  {
   "cell_type": "markdown",
   "id": "2ebc380f-5f2e-4edc-89a2-c25a48a32feb",
   "metadata": {},
   "source": [
    "### Recall: 0.8653\n",
    "### Precision: 0.7894\n",
    "### F-1 Score: 0.8256"
   ]
  },
  {
   "cell_type": "markdown",
   "id": "697c0a9d-bdf8-4e59-b327-f31ac5bfde47",
   "metadata": {},
   "source": [
    "### Knowing the dependence of target variable on various feature using Mutual Information Gain "
   ]
  },
  {
   "cell_type": "markdown",
   "id": "24200a51-052e-4f9c-bb18-877dbbf661ee",
   "metadata": {},
   "source": [
    "#### Mutual Information Gain:\n",
    "MI Estimate mutual information for a discrete target variable.\n",
    "\n",
    "Mutual information (MI) between two random variables is a non-negative value, which measures the dependency between the variables. It is equal to zero if and only if two random variables are independent, and higher values mean higher dependency. <br>\n",
    "\n",
    "I(X ; Y) = H(X) – H(X | Y) Where I(X ; Y) is the mutual information for X and Y, H(X) is the entropy for X and H(X | Y) is the conditional entropy for X given Y. The result has the units of bits.\n",
    "\n",
    "Credits: Krish Naik GitHub repository (Feature Selection) <br>\n",
    "Link: https://github.com/krishnaik06/Complete-Feature-Selection/blob/master/3-%20Information%20gain%20-%20mutual%20information%20In%20Classification.ipynb"
   ]
  },
  {
   "cell_type": "markdown",
   "id": "c4138783-37ea-4654-b36a-8acb31af8d2a",
   "metadata": {},
   "source": [
    "#### Before evaluating Mutual information gain, first let's remove those columns which are highly correlated, i.e. we'll first remove high multicollinearity."
   ]
  },
  {
   "cell_type": "code",
   "execution_count": 70,
   "id": "e7364ec5-53d9-4d13-bf3c-444c795aa8f3",
   "metadata": {},
   "outputs": [],
   "source": [
    "def correlation(dataset,threshold):\n",
    "    col_corr = set() # empty set to avoid repittion later\n",
    "    corr_matrix = dataset.corr()\n",
    "    for i in range(len(corr_matrix.columns)):\n",
    "        for j in range(i):\n",
    "            if (corr_matrix.iloc[i,j]) > threshold: # abs is taken to consider highly negatively correlated columns as well\n",
    "                colname = corr_matrix.columns[i] # getting the name of the column\n",
    "                col_corr.add(colname)\n",
    "    return col_corr"
   ]
  },
  {
   "cell_type": "code",
   "execution_count": 71,
   "id": "d8555528-4b3c-48af-a645-48ca32f1096f",
   "metadata": {},
   "outputs": [
    {
     "data": {
      "text/plain": [
       "{'APP_BYTES',\n",
       " 'APP_PACKETS',\n",
       " 'CHARSET_us-ascii',\n",
       " 'NUMBER_SPECIAL_CHARACTERS',\n",
       " 'REMOTE_APP_BYTES',\n",
       " 'REMOTE_APP_PACKETS',\n",
       " 'SOURCE_APP_BYTES',\n",
       " 'SOURCE_APP_PACKETS',\n",
       " 'WHOIS_REGDATE_Present'}"
      ]
     },
     "execution_count": 71,
     "metadata": {},
     "output_type": "execute_result"
    }
   ],
   "source": [
    "correlation(X_smote,0.7) # all those columns which ahve more than 70% collinearity"
   ]
  },
  {
   "cell_type": "code",
   "execution_count": 72,
   "id": "832d6b4b-304e-449f-bf73-06ab0fae8cc2",
   "metadata": {},
   "outputs": [],
   "source": [
    "X_smote2 = X_smote.drop(list(correlation(X_smote,0.7)),axis=1) # removing all those columns which ahve more than 70% collinearity"
   ]
  },
  {
   "cell_type": "code",
   "execution_count": 74,
   "id": "e7b3da4e-7ed1-4e18-97bb-b688c7175182",
   "metadata": {},
   "outputs": [
    {
     "data": {
      "text/plain": [
       "array([0.13144412, 0.0598977 , 0.12897923, 0.05382402, 0.08336961,\n",
       "       0.08412617, 0.07001391, 0.        , 0.02407917, 0.        ,\n",
       "       0.02230589, 0.00177543, 0.01658418, 0.0316601 , 0.03982705,\n",
       "       0.01140301, 0.00806902, 0.        , 0.00878469, 0.00569672,\n",
       "       0.02646063])"
      ]
     },
     "execution_count": 74,
     "metadata": {},
     "output_type": "execute_result"
    }
   ],
   "source": [
    "from sklearn.feature_selection import mutual_info_classif\n",
    "# determine the mutual information\n",
    "mutual_info = mutual_info_classif(X_smote2, y_smote)\n",
    "mutual_info"
   ]
  },
  {
   "cell_type": "code",
   "execution_count": 75,
   "id": "94b9ba44-c9bc-480e-b135-0d6f9a929f87",
   "metadata": {},
   "outputs": [
    {
     "data": {
      "text/plain": [
       "URL_LENGTH                      0.131444\n",
       "DIST_REMOTE_TCP_PORT            0.128979\n",
       "WHOIS_UPDATED_DATE_Present      0.084126\n",
       "DNS_QUERY_TIMES                 0.083370\n",
       "WHOIS_STATEPRO_CA               0.070014\n",
       "TCP_CONVERSATION_EXCHANGE       0.059898\n",
       "REMOTE_IPS                      0.053824\n",
       "SERVER_OTHERS                   0.039827\n",
       "SERVER_None                     0.031660\n",
       "CHARSET_utf-8                   0.026461\n",
       "WHOIS_STATEPRO_NY               0.024079\n",
       "WHOIS_STATEPRO_OTHERS           0.022306\n",
       "SERVER_Microsoft-HTTPAPI/2.0    0.016584\n",
       "SERVER_cloudflare-nginx         0.011403\n",
       "CHARSET_UTF-8                   0.008785\n",
       "SERVER_nginx                    0.008069\n",
       "CHARSET_iso-8859-1              0.005697\n",
       "WHOIS_STATEPRO_WA               0.001775\n",
       "WHOIS_STATEPRO_None             0.000000\n",
       "WHOIS_STATEPRO_FL               0.000000\n",
       "CHARSET_OTHERS                  0.000000\n",
       "dtype: float64"
      ]
     },
     "execution_count": 75,
     "metadata": {},
     "output_type": "execute_result"
    }
   ],
   "source": [
    "mutual_info = pd.Series(mutual_info) # Creating series of column names and their respective mutual information gain\n",
    "mutual_info.index = X_smote2.columns # setting up index\n",
    "mutual_info.sort_values(ascending=False) # sorting the values"
   ]
  },
  {
   "cell_type": "code",
   "execution_count": 81,
   "id": "1cc1fde4-c8a0-43b9-9bd5-e043fdcb94bc",
   "metadata": {},
   "outputs": [
    {
     "data": {
      "image/png": "[encoded data removed]",
      "text/plain": [
       "<Figure size 1440x720 with 1 Axes>"
      ]
     },
     "metadata": {
      "needs_background": "light"
     },
     "output_type": "display_data"
    }
   ],
   "source": [
    "# Bar Plot of Mutual Information Gain with respect to our target variable\n",
    "plt.ylabel(\"Mutual Information Gain\")\n",
    "plt.xlabel(\"Independent Features\")\n",
    "plt.title(\"Mutual Information Gain of each feature with respect to target variable\")\n",
    "mutual_info.sort_values(ascending=False).plot.bar(figsize=(20, 10));"
   ]
  },
  {
   "cell_type": "markdown",
   "id": "8f9d74d6-48cf-474b-aa0c-72e0685371ec",
   "metadata": {},
   "source": [
    "### Features like URL_LENGTH, DIST_REMOTE_TCP_PORT, presence of an UPDATE_DATE, DNS_QUERY_TIMES , operation from California state etc. are among the most important features for predicting whether a website is malicious or not"
   ]
  },
  {
   "cell_type": "code",
   "execution_count": null,
   "id": "7147e9a0-8e79-4ccd-aa7e-6782745ba6a1",
   "metadata": {},
   "outputs": [],
   "source": []
  }
 ],
 "metadata": {
  "kernelspec": {
   "display_name": "Python 3",
   "language": "python",
   "name": "python3"
  },
  "language_info": {
   "codemirror_mode": {
    "name": "ipython",
    "version": 3
   },
   "file_extension": ".py",
   "mimetype": "text/x-python",
   "name": "python",
   "nbconvert_exporter": "python",
   "pygments_lexer": "ipython3",
   "version": "3.8.8"
  }
 },
 "nbformat": 4,
 "nbformat_minor": 5
}
